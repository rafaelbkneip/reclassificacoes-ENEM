{
  "nbformat": 4,
  "nbformat_minor": 0,
  "metadata": {
    "colab": {
      "provenance": [],
      "authorship_tag": "ABX9TyODbHnGSELBqHiMTEnQICb4",
      "include_colab_link": true
    },
    "kernelspec": {
      "name": "python3",
      "display_name": "Python 3"
    },
    "language_info": {
      "name": "python"
    }
  },
  "cells": [
    {
      "cell_type": "markdown",
      "metadata": {
        "id": "view-in-github",
        "colab_type": "text"
      },
      "source": [
        "<a href=\"https://colab.research.google.com/github/rafaelbkneip/reclassificacoes-UFJF/blob/main/Reclassifica%C3%A7%C3%B5es_UFJF_SISU.ipynb\" target=\"_parent\"><img src=\"https://colab.research.google.com/assets/colab-badge.svg\" alt=\"Open In Colab\"/></a>"
      ]
    },
    {
      "cell_type": "code",
      "execution_count": null,
      "metadata": {
        "id": "DJkEW5f5W05A"
      },
      "outputs": [],
      "source": [
        "!pip install pdfplumber -q\n",
        "!pip install PyMuPDF\n",
        "!pip install PyPDF2\n",
        "#importing libraries\n",
        "import pdfplumber\n",
        "from google.colab import files\n",
        "from PyPDF2 import PdfReader, PdfWriter\n"
      ]
    },
    {
      "cell_type": "code",
      "source": [
        "pdf = files.upload()"
      ],
      "metadata": {
        "id": "rafOSzEAXLIw"
      },
      "execution_count": null,
      "outputs": []
    },
    {
      "cell_type": "code",
      "source": [
        "unica = []\n",
        "\n",
        "pdf = pdfplumber.open('3-Reclassificao-SISU-2023.1.pdf')\n",
        "\n",
        "readpdf = PdfReader('3-Reclassificao-SISU-2023.1.pdf')\n",
        "\n",
        "print(len(readpdf.pages))\n",
        "\n",
        "for j in range(len(readpdf.pages)):\n",
        "\n",
        "  text = pdf.pages[j].extract_text()\n",
        "\n",
        "  listas = text.split(\"\\n\")\n",
        "\n",
        "  if (j == 0):\n",
        "    print(\"Primeira\")\n",
        "    for i in range(16,(len(listas)-1)):\n",
        "      unica.append(listas[i])\n",
        "\n",
        "\n",
        "  elif(j == (len(readpdf.pages)-1)):\n",
        "    ultima = (listas[-4])\n",
        "    for i in range(0,listas.index(ultima)):\n",
        "      unica.append(listas[i])\n",
        "\n",
        "\n",
        "  else:\n",
        "    ultima = (listas[-1])\n",
        "    for i in range(0,listas.index(ultima)):\n",
        "      unica.append(listas[i])\n",
        "\n",
        "print(unica)\n"
      ],
      "metadata": {
        "id": "RWJHkmOZzbGv"
      },
      "execution_count": null,
      "outputs": []
    },
    {
      "cell_type": "code",
      "source": [
        "numero = []\n",
        "\n",
        "aux = ''\n",
        "for t in range(len(unica)):\n",
        "\n",
        "  if (\"GRUPO\" in unica[t] or unica[t].split(\" \")[0].isdigit()):\n",
        "    print(unica[t])\n",
        "\n",
        "  else:\n",
        "    numero.append(t)\n",
        "\n",
        "print(numero)"
      ],
      "metadata": {
        "id": "w8jifDF9zdV_"
      },
      "execution_count": null,
      "outputs": []
    },
    {
      "cell_type": "code",
      "source": [
        "deletar = []\n",
        "for j in range(len(numero)-1):\n",
        "  if(numero[j+1] - numero [j] == 1):\n",
        "    unica[numero[j]] = unica[numero[j]] + ' ' + unica[numero[j+1]]\n",
        "    print(j)\n",
        "    print(unica[numero[j]])\n",
        "    print(unica[numero[j+1]])\n",
        "    deletar.append(j+1)\n"
      ],
      "metadata": {
        "id": "iRxem5raPfYk"
      },
      "execution_count": null,
      "outputs": []
    },
    {
      "cell_type": "code",
      "source": [
        "for r in range(len(deletar)):\n",
        "\n",
        "  print(numero[ deletar[r] ] - r)\n",
        "  print(unica[numero[deletar[r]] - r ])\n",
        "  unica.pop(numero [deletar[r]] - r)"
      ],
      "metadata": {
        "id": "a_DvgXynlzK3"
      },
      "execution_count": null,
      "outputs": []
    },
    {
      "cell_type": "code",
      "source": [
        "curso = []\n",
        "grupo = []\n",
        "aluno = []\n",
        "\n",
        "aux = ''\n",
        "for t in range(len(unica)):\n",
        "\n",
        "  print(unica[t])\n",
        "  print(unica[t].split(\" \")[0])\n",
        "  print(unica[t].split(\" \")[0].isdigit())\n",
        "\n",
        "  if (\"SISU\" in unica[t]):\n",
        "    grupo.append(t)\n",
        "\n",
        "  elif(unica[t].split(\" \")[0].isdigit()):\n",
        "    for k in range(3, len(unica[t].split(\" \"))):\n",
        "      if(k == 3):\n",
        "        aux = unica[t].split(\" \")[k]\n",
        "      else:\n",
        "        aux = aux + ' ' + unica[t].split(\" \")[k]\n",
        "\n",
        "    unica[t] = aux\n",
        "    aluno.append(t)\n",
        "    aux = ''\n",
        "\n",
        "  else:\n",
        "    curso.append(t)"
      ],
      "metadata": {
        "id": "iRi-5De9NxFt"
      },
      "execution_count": null,
      "outputs": []
    },
    {
      "cell_type": "code",
      "source": [
        "print(unica)\n",
        "print(grupo)\n",
        "print(curso)\n",
        "print(aluno)"
      ],
      "metadata": {
        "id": "qQdLGrgdOuPv"
      },
      "execution_count": null,
      "outputs": []
    },
    {
      "cell_type": "code",
      "source": [
        "aux = []\n",
        "lista = []\n",
        "aux_curso = []\n",
        "aux_grupo = []\n",
        "\n",
        "for g in range(len(aluno)):\n",
        "\n",
        "  for num_curso in range(len(curso)):\n",
        "    if (aluno [g] > curso [num_curso]):\n",
        "      aux_curso.append(curso[num_curso])\n",
        "\n",
        "  for num_grupo in range(len(grupo)):\n",
        "    if (aluno [g] > grupo [num_grupo]):\n",
        "      aux_grupo.append(grupo[num_grupo])\n",
        "\n",
        "  aux.append(unica[aluno[g]])\n",
        "  aux.append(unica[aux_grupo[-1]])\n",
        "  aux.append(unica[aux_curso[-1]])\n",
        "\n",
        "  lista.append(aux)\n",
        "\n",
        "  aux = []\n",
        "\n",
        "print(lista)"
      ],
      "metadata": {
        "id": "QlGiAIwiO1ab"
      },
      "execution_count": null,
      "outputs": []
    },
    {
      "cell_type": "code",
      "source": [
        "from google.colab import drive\n",
        "import os\n",
        "#mounting drive\n",
        "drive.mount('/content/gdrive')\n",
        "\n",
        "from google.colab import auth\n",
        "auth.authenticate_user()\n",
        "import gspread\n",
        "from google.auth import default"
      ],
      "metadata": {
        "id": "N8_UDPwmD3Es"
      },
      "execution_count": null,
      "outputs": []
    },
    {
      "cell_type": "code",
      "source": [
        "creds, _ = default()\n",
        "gc = gspread.authorize(creds)\n",
        "planilha = gc.open('NOME-GOOGLE SHEETS')\n",
        "pagina1 = planilha.get_worksheet(0)"
      ],
      "metadata": {
        "id": "A9cGnSXzFXp5"
      },
      "execution_count": null,
      "outputs": []
    },
    {
      "cell_type": "code",
      "source": [
        "aprov = (len(lista))\n",
        "aprov"
      ],
      "metadata": {
        "id": "DrOwbjVtWHcW"
      },
      "execution_count": null,
      "outputs": []
    },
    {
      "cell_type": "code",
      "source": [
        "for b in range(aprov):\n",
        "  lista_cel = pagina1.range('A' + str(b+1) +':' + 'C' +  str(b+1))\n",
        "  for r in range (3):\n",
        "    lista_cel[r].value = lista[b][r]\n",
        "\n",
        "  pagina1.update_cells(lista_cel)"
      ],
      "metadata": {
        "id": "tQnmjBF8WJ19"
      },
      "execution_count": null,
      "outputs": []
    }
  ]
}